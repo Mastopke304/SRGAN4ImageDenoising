{
 "cells": [
  {
   "cell_type": "code",
   "execution_count": 1,
   "id": "c6cbcae0",
   "metadata": {},
   "outputs": [],
   "source": [
    "import torch\n",
    "import torchvision\n",
    "import torch.nn as nn\n",
    "import torchvision.transforms as transforms\n",
    "from torch.utils.data import Dataset, DataLoader, random_split, TensorDataset\n",
    "\n",
    "import os\n",
    "import time\n",
    "import cv2\n",
    "import random\n",
    "import skimage\n",
    "from skimage.util import random_noise\n",
    "import numpy as np\n",
    "from PIL import Image\n",
    "from PIL import ImageFile\n",
    "from earlystopping import EarlyStopping\n",
    "from loss import *\n",
    "import matplotlib.pyplot as plt\n",
    "import hiddenlayer as hl"
   ]
  },
  {
   "cell_type": "code",
   "execution_count": 2,
   "id": "bb20437a",
   "metadata": {},
   "outputs": [],
   "source": [
    "n_blocks = 5\n",
    "n_epochs = 100\n",
    "batch_size = 64\n",
    "train_path = './data/COCO2014/train2014/'\n",
    "val_path = './data/COCO2014/val2014/'\n",
    "device = torch.device(\"cuda\" if torch.cuda.is_available() else \"cpu\")\n",
    "ImageFile.LOAD_TRUNCATED_IMAGES = True"
   ]
  },
  {
   "cell_type": "code",
   "execution_count": 3,
   "id": "2cc0f296",
   "metadata": {},
   "outputs": [],
   "source": [
    "randomcrop = transforms.RandomCrop(96)"
   ]
  },
  {
   "cell_type": "code",
   "execution_count": 4,
   "id": "9afabb19",
   "metadata": {},
   "outputs": [],
   "source": [
    "def addGaussNoise(data, sigma):\n",
    "    sigma2 = sigma**2 / (255 ** 2)\n",
    "    noise = random_noise(data, mode='gaussian', var=sigma2, clip=True)\n",
    "    return noise"
   ]
  },
  {
   "cell_type": "code",
   "execution_count": 5,
   "id": "ae3e7dcf",
   "metadata": {},
   "outputs": [],
   "source": [
    "class MyDataset(Dataset):\n",
    "    def __init__(self, path, transform, sigma=30, ex=1):\n",
    "        self.transform = transform\n",
    "        self.sigma = sigma\n",
    "\n",
    "        for _, _, files in os.walk(path):\n",
    "            self.imgs = [path + file for file in files if Image.open(path + file).size >= (96,96)] * ex\n",
    "\n",
    "        np.random.shuffle(self.imgs)\n",
    "\n",
    "    def __getitem__(self, index):\n",
    "        tempImg = self.imgs[index]\n",
    "        tempImg = Image.open(tempImg).convert('RGB')\n",
    "        Img = np.array(self.transform(tempImg))/255\n",
    "        nImg = addGaussNoise(Img, self.sigma)\n",
    "        Img = torch.tensor(Img.transpose(2,0,1))\n",
    "        nImg = torch.tensor(nImg.transpose(2,0,1))\n",
    "        return Img, nImg\n",
    "\n",
    "    def __len__(self):\n",
    "        return len(self.imgs)"
   ]
  },
  {
   "cell_type": "code",
   "execution_count": 6,
   "id": "c23dd319",
   "metadata": {},
   "outputs": [],
   "source": [
    "def get_data(batch_size, train_path, val_path, transform, sigma, ex=1):\n",
    "    train_dataset = MyDataset(train_path, transform, sigma, ex)\n",
    "    val_dataset = MyDataset(val_path, transform, sigma, ex)\n",
    "    train_iter = DataLoader(train_dataset, batch_size, drop_last=True, num_workers=6)\n",
    "    val_iter = DataLoader(val_dataset, batch_size, drop_last=True, num_workers=6)\n",
    "    return train_iter, val_iter"
   ]
  },
  {
   "cell_type": "code",
   "execution_count": 7,
   "id": "d135d04a",
   "metadata": {},
   "outputs": [],
   "source": [
    "train_iter, val_iter = get_data(batch_size, train_path, val_path, randomcrop, 30, ex=1)"
   ]
  },
  {
   "cell_type": "code",
   "execution_count": 8,
   "id": "9b06e63c",
   "metadata": {},
   "outputs": [],
   "source": [
    "def calculate_psnr(img1, img2):\n",
    "    return 10. * torch.log10(1. / torch.mean((img1 - img2) ** 2))"
   ]
  },
  {
   "cell_type": "code",
   "execution_count": 9,
   "id": "b10c0c63",
   "metadata": {},
   "outputs": [],
   "source": [
    "class ResBlock(nn.Module):\n",
    "    def __init__(self, inC, outC):\n",
    "        super(ResBlock, self).__init__()\n",
    "        self.layer1 = nn.Sequential(nn.Conv2d(inC, outC, kernel_size=3, stride=1, padding=1, bias=False), \n",
    "                                    nn.BatchNorm2d(outC), \n",
    "                                    nn.PReLU())\n",
    "\n",
    "        self.layer2 = nn.Sequential(nn.Conv2d(outC, outC, kernel_size=3, stride=1, padding=1, bias=False), \n",
    "                                    nn.BatchNorm2d(outC))\n",
    "\n",
    "    def forward(self, x):\n",
    "        resudial = x\n",
    "\n",
    "        out = self.layer1(x)\n",
    "        out = self.layer2(out)\n",
    "        out = out + resudial\n",
    "\n",
    "        return out"
   ]
  },
  {
   "cell_type": "code",
   "execution_count": 10,
   "id": "b41c582d",
   "metadata": {},
   "outputs": [],
   "source": [
    "class Generator(nn.Module):\n",
    "    def __init__(self, n_blocks):\n",
    "        super(Generator, self).__init__()\n",
    "        self.convlayer1 = nn.Sequential(nn.Conv2d(3, 64, kernel_size=9, stride=1, padding=4, bias=False),\n",
    "                                        nn.PReLU())\n",
    "\n",
    "        self.ResBlocks = nn.ModuleList([ResBlock(64, 64) for _ in range(n_blocks)])\n",
    "\n",
    "        self.convlayer2 = nn.Sequential(nn.Conv2d(64, 64, kernel_size=3, stride=1, padding=1, bias=False), \n",
    "                                        nn.BatchNorm2d(64))\n",
    "\n",
    "        self.convout = nn.Conv2d(64, 3, kernel_size=9, stride=1, padding=4, bias=False)\n",
    "\n",
    "    def forward(self, x):\n",
    "        out = self.convlayer1(x)\n",
    "        residual = out\n",
    "\n",
    "        for block in self.ResBlocks:\n",
    "            out = block(out)\n",
    "\n",
    "        out = self.convlayer2(out)\n",
    "        out = out + residual\n",
    "\n",
    "        out = self.convout(out)\n",
    "\n",
    "        return out"
   ]
  },
  {
   "cell_type": "code",
   "execution_count": 11,
   "id": "41543f7b",
   "metadata": {},
   "outputs": [],
   "source": [
    "class DownSample(nn.Module):\n",
    "    def __init__(self, input_channel, output_channel,  stride, kernel_size=3, padding=1):\n",
    "        super(DownSample, self).__init__()\n",
    "        self.layer = nn.Sequential(nn.Conv2d(input_channel, output_channel, kernel_size, stride, padding),\n",
    "                                   nn.BatchNorm2d(output_channel),\n",
    "                                   nn.LeakyReLU(inplace=True))\n",
    "\n",
    "    def forward(self, x):\n",
    "        x = self.layer(x)\n",
    "        return x"
   ]
  },
  {
   "cell_type": "code",
   "execution_count": 12,
   "id": "4dfe48fe",
   "metadata": {},
   "outputs": [],
   "source": [
    "class Discriminator(nn.Module):\n",
    "    def __init__(self):\n",
    "        super(Discriminator, self).__init__()\n",
    "        self.conv1 = nn.Sequential(nn.Conv2d(3, 64, 3, stride=1, padding=1),\n",
    "                                   nn.LeakyReLU(inplace=True))\n",
    "\n",
    "        self.down = nn.Sequential(DownSample(64, 64, stride=2, padding=1),\n",
    "                                  DownSample(64, 128, stride=1, padding=1),\n",
    "                                  DownSample(128, 128, stride=2, padding=1),\n",
    "                                  DownSample(128, 256, stride=1, padding=1),\n",
    "                                  DownSample(256, 256, stride=2, padding=1),\n",
    "                                  DownSample(256, 512, stride=1, padding=1),\n",
    "                                  DownSample(512, 512, stride=2, padding=1))\n",
    "\n",
    "        self.dense = nn.Sequential(nn.AdaptiveAvgPool2d(1),\n",
    "                                   nn.Conv2d(512, 1024, 1),\n",
    "                                   nn.LeakyReLU(inplace=True),\n",
    "                                   nn.Conv2d(1024, 1, 1),\n",
    "                                   nn.Sigmoid())\n",
    "\n",
    "    def forward(self, x):\n",
    "        x = self.conv1(x)\n",
    "        x = self.down(x)\n",
    "        x = self.dense(x)\n",
    "        return x"
   ]
  },
  {
   "cell_type": "code",
   "execution_count": 13,
   "id": "16418b83",
   "metadata": {},
   "outputs": [],
   "source": [
    "lr = 0.001\n",
    "\n",
    "G = Generator(n_blocks)\n",
    "D = Discriminator()\n",
    "\n",
    "G_loss = PerceptualLoss(device)\n",
    "Regulaztion = RegularizationLoss().to(device)\n",
    "D_loss = nn.BCELoss().to(device)\n",
    "\n",
    "optimizer_g = torch.optim.Adam(G.parameters(), lr=lr*0.1)\n",
    "optimizer_d = torch.optim.Adam(D.parameters(), lr=lr)\n",
    "\n",
    "real_label = torch.ones([batch_size, 1, 1, 1]).to(device)\n",
    "fake_label = torch.zeros([batch_size, 1, 1, 1]).to(device)\n",
    "\n",
    "early_stopping = EarlyStopping(10, verbose=True)"
   ]
  },
  {
   "cell_type": "code",
   "execution_count": 14,
   "id": "0f6618c9",
   "metadata": {},
   "outputs": [],
   "source": [
    "train_loss_g = []\n",
    "train_loss_d = []\n",
    "train_psnr = []\n",
    "val_loss = []\n",
    "val_psnr = []"
   ]
  },
  {
   "cell_type": "code",
   "execution_count": 15,
   "id": "166c65e2",
   "metadata": {
    "tags": []
   },
   "outputs": [],
   "source": [
    "def train(generator, discriminator, train_iter, val_iter, n_epochs, optimizer_g, optimizer_d, loss_g, loss_d, Regulaztion, device):\n",
    "    print('train on',device)\n",
    "    generator.to(device)\n",
    "    discriminator.to(device)\n",
    "    cuda = next(generator.parameters()).device\n",
    "    for epoch in range(n_epochs):\n",
    "        train_epoch_loss_g = []\n",
    "        train_epoch_loss_d = []\n",
    "        train_epoch_psnr = []\n",
    "        val_epoch_loss = []\n",
    "        val_epoch_psnr = []\n",
    "        start = time.time()\n",
    "        generator.train()\n",
    "        discriminator.train()\n",
    "        for i, (img, nimg) in enumerate(train_iter):\n",
    "            img, nimg = img.to(cuda).float(), nimg.to(cuda).float()\n",
    "            fakeimg = generator(nimg)\n",
    "            \n",
    "            optimizer_d.zero_grad()\n",
    "            realOut = discriminator(img)\n",
    "            fakeOut = discriminator(fakeimg.detach())\n",
    "            loss_d = D_loss(realOut, real_label) + D_loss(fakeOut, fake_label)\n",
    "            loss_d.backward()\n",
    "            optimizer_d.step()\n",
    "            \n",
    "            optimizer_g.zero_grad()\n",
    "            loss_g = G_loss(fakeimg, img, D(fakeimg)) + 2e-8*Regulaztion(fakeimg)\n",
    "            loss_g.backward()\n",
    "            optimizer_g.step()\n",
    "            \n",
    "            train_epoch_loss_d.append(loss_d.item())\n",
    "            train_epoch_loss_g.append(loss_g.item())\n",
    "            train_epoch_psnr.append(calculate_psnr(fakeimg, img).item())\n",
    "        train_epoch_avg_loss_g = np.mean(train_epoch_loss_g)\n",
    "        train_epoch_avg_loss_d = np.mean(train_epoch_loss_d)\n",
    "        train_epoch_avg_psnr = np.mean(train_epoch_psnr)\n",
    "        train_loss_g.append(train_epoch_avg_loss_g)\n",
    "        train_loss_d.append(train_epoch_avg_loss_d)\n",
    "        train_psnr.append(train_epoch_avg_psnr)\n",
    "        print(f'Epoch {epoch + 1}, Generator Train Loss: {train_epoch_avg_loss_g:.4f}, '\n",
    "              f'Discriminator Train Loss: {train_epoch_avg_loss_d:.4f}, PSNR: {train_epoch_avg_psnr:.4f}')\n",
    "        generator.eval()\n",
    "        discriminator.eval()\n",
    "        with torch.no_grad():\n",
    "            for i, (img, nimg) in enumerate(val_iter):\n",
    "                img, nimg = img.to(cuda).float(), nimg.to(cuda).float()\n",
    "                fakeimg = generator(nimg)\n",
    "                loss_g = G_loss(fakeimg, img, D(fakeimg)) + 2e-8*Regulaztion(fakeimg)\n",
    "                val_epoch_loss.append(loss_g.item())\n",
    "                val_epoch_psnr.append(calculate_psnr(fakeimg, img).item())\n",
    "            val_epoch_avg_loss = np.mean(val_epoch_loss)\n",
    "            val_epoch_avg_psnr = np.mean(val_epoch_psnr)\n",
    "            val_loss.append(val_epoch_avg_loss)\n",
    "            val_psnr.append(val_epoch_avg_psnr)\n",
    "            print(f'Generator Val Loss: {val_epoch_avg_loss:.4f}, PSNR: {val_epoch_avg_psnr:.4f}, Cost: {(time.time()-start):.4f}s')\n",
    "            checkpoint_perf = early_stopping(generator, discriminator, train_epoch_avg_psnr, val_epoch_avg_psnr)\n",
    "            if early_stopping.early_stop:\n",
    "                print(\"Early stopping\")\n",
    "                print('Final model performance:')\n",
    "                print(f'Train PSNR: {checkpoint_perf[0]}, Val PSNR: {checkpoint_perf[1]}')\n",
    "                break\n",
    "        torch.cuda.empty_cache()"
   ]
  },
  {
   "cell_type": "code",
   "execution_count": 16,
   "id": "a709da37",
   "metadata": {
    "scrolled": true,
    "tags": []
   },
   "outputs": [
    {
     "name": "stdout",
     "output_type": "stream",
     "text": [
      "train on cuda\n"
     ]
    },
    {
     "ename": "KeyboardInterrupt",
     "evalue": "",
     "output_type": "error",
     "traceback": [
      "\u001b[0;31m---------------------------------------------------------------------------\u001b[0m",
      "\u001b[0;31mKeyboardInterrupt\u001b[0m                         Traceback (most recent call last)",
      "Input \u001b[0;32mIn [16]\u001b[0m, in \u001b[0;36m<cell line: 1>\u001b[0;34m()\u001b[0m\n\u001b[0;32m----> 1\u001b[0m \u001b[43mtrain\u001b[49m\u001b[43m(\u001b[49m\u001b[43mG\u001b[49m\u001b[43m,\u001b[49m\u001b[43m \u001b[49m\u001b[43mD\u001b[49m\u001b[43m,\u001b[49m\u001b[43m \u001b[49m\u001b[43mtrain_iter\u001b[49m\u001b[43m,\u001b[49m\u001b[43m \u001b[49m\u001b[43mval_iter\u001b[49m\u001b[43m,\u001b[49m\u001b[43m \u001b[49m\u001b[43mn_epochs\u001b[49m\u001b[43m,\u001b[49m\u001b[43m \u001b[49m\u001b[43moptimizer_g\u001b[49m\u001b[43m,\u001b[49m\u001b[43m \u001b[49m\u001b[43moptimizer_d\u001b[49m\u001b[43m,\u001b[49m\u001b[43m \u001b[49m\u001b[43mG_loss\u001b[49m\u001b[43m,\u001b[49m\u001b[43m \u001b[49m\u001b[43mD_loss\u001b[49m\u001b[43m,\u001b[49m\u001b[43m \u001b[49m\u001b[43mRegulaztion\u001b[49m\u001b[43m,\u001b[49m\u001b[43m \u001b[49m\u001b[43mdevice\u001b[49m\u001b[43m)\u001b[49m\n",
      "Input \u001b[0;32mIn [15]\u001b[0m, in \u001b[0;36mtrain\u001b[0;34m(generator, discriminator, train_iter, val_iter, n_epochs, optimizer_g, optimizer_d, loss_g, loss_d, Regulaztion, device)\u001b[0m\n\u001b[1;32m     26\u001b[0m optimizer_g\u001b[38;5;241m.\u001b[39mzero_grad()\n\u001b[1;32m     27\u001b[0m loss_g \u001b[38;5;241m=\u001b[39m G_loss(fakeimg, img, D(fakeimg)) \u001b[38;5;241m+\u001b[39m \u001b[38;5;241m2e-8\u001b[39m\u001b[38;5;241m*\u001b[39mRegulaztion(fakeimg)\n\u001b[0;32m---> 28\u001b[0m \u001b[43mloss_g\u001b[49m\u001b[38;5;241;43m.\u001b[39;49m\u001b[43mbackward\u001b[49m\u001b[43m(\u001b[49m\u001b[43m)\u001b[49m\n\u001b[1;32m     29\u001b[0m optimizer_g\u001b[38;5;241m.\u001b[39mstep()\n\u001b[1;32m     31\u001b[0m train_epoch_loss_d\u001b[38;5;241m.\u001b[39mappend(loss_d\u001b[38;5;241m.\u001b[39mitem())\n",
      "File \u001b[0;32m~/miniconda3/lib/python3.8/site-packages/torch/_tensor.py:363\u001b[0m, in \u001b[0;36mTensor.backward\u001b[0;34m(self, gradient, retain_graph, create_graph, inputs)\u001b[0m\n\u001b[1;32m    354\u001b[0m \u001b[38;5;28;01mif\u001b[39;00m has_torch_function_unary(\u001b[38;5;28mself\u001b[39m):\n\u001b[1;32m    355\u001b[0m     \u001b[38;5;28;01mreturn\u001b[39;00m handle_torch_function(\n\u001b[1;32m    356\u001b[0m         Tensor\u001b[38;5;241m.\u001b[39mbackward,\n\u001b[1;32m    357\u001b[0m         (\u001b[38;5;28mself\u001b[39m,),\n\u001b[0;32m   (...)\u001b[0m\n\u001b[1;32m    361\u001b[0m         create_graph\u001b[38;5;241m=\u001b[39mcreate_graph,\n\u001b[1;32m    362\u001b[0m         inputs\u001b[38;5;241m=\u001b[39minputs)\n\u001b[0;32m--> 363\u001b[0m \u001b[43mtorch\u001b[49m\u001b[38;5;241;43m.\u001b[39;49m\u001b[43mautograd\u001b[49m\u001b[38;5;241;43m.\u001b[39;49m\u001b[43mbackward\u001b[49m\u001b[43m(\u001b[49m\u001b[38;5;28;43mself\u001b[39;49m\u001b[43m,\u001b[49m\u001b[43m \u001b[49m\u001b[43mgradient\u001b[49m\u001b[43m,\u001b[49m\u001b[43m \u001b[49m\u001b[43mretain_graph\u001b[49m\u001b[43m,\u001b[49m\u001b[43m \u001b[49m\u001b[43mcreate_graph\u001b[49m\u001b[43m,\u001b[49m\u001b[43m \u001b[49m\u001b[43minputs\u001b[49m\u001b[38;5;241;43m=\u001b[39;49m\u001b[43minputs\u001b[49m\u001b[43m)\u001b[49m\n",
      "File \u001b[0;32m~/miniconda3/lib/python3.8/site-packages/torch/autograd/__init__.py:173\u001b[0m, in \u001b[0;36mbackward\u001b[0;34m(tensors, grad_tensors, retain_graph, create_graph, grad_variables, inputs)\u001b[0m\n\u001b[1;32m    168\u001b[0m     retain_graph \u001b[38;5;241m=\u001b[39m create_graph\n\u001b[1;32m    170\u001b[0m \u001b[38;5;66;03m# The reason we repeat same the comment below is that\u001b[39;00m\n\u001b[1;32m    171\u001b[0m \u001b[38;5;66;03m# some Python versions print out the first line of a multi-line function\u001b[39;00m\n\u001b[1;32m    172\u001b[0m \u001b[38;5;66;03m# calls in the traceback and some print out the last line\u001b[39;00m\n\u001b[0;32m--> 173\u001b[0m \u001b[43mVariable\u001b[49m\u001b[38;5;241;43m.\u001b[39;49m\u001b[43m_execution_engine\u001b[49m\u001b[38;5;241;43m.\u001b[39;49m\u001b[43mrun_backward\u001b[49m\u001b[43m(\u001b[49m\u001b[43m  \u001b[49m\u001b[38;5;66;43;03m# Calls into the C++ engine to run the backward pass\u001b[39;49;00m\n\u001b[1;32m    174\u001b[0m \u001b[43m    \u001b[49m\u001b[43mtensors\u001b[49m\u001b[43m,\u001b[49m\u001b[43m \u001b[49m\u001b[43mgrad_tensors_\u001b[49m\u001b[43m,\u001b[49m\u001b[43m \u001b[49m\u001b[43mretain_graph\u001b[49m\u001b[43m,\u001b[49m\u001b[43m \u001b[49m\u001b[43mcreate_graph\u001b[49m\u001b[43m,\u001b[49m\u001b[43m \u001b[49m\u001b[43minputs\u001b[49m\u001b[43m,\u001b[49m\n\u001b[1;32m    175\u001b[0m \u001b[43m    \u001b[49m\u001b[43mallow_unreachable\u001b[49m\u001b[38;5;241;43m=\u001b[39;49m\u001b[38;5;28;43;01mTrue\u001b[39;49;00m\u001b[43m,\u001b[49m\u001b[43m \u001b[49m\u001b[43maccumulate_grad\u001b[49m\u001b[38;5;241;43m=\u001b[39;49m\u001b[38;5;28;43;01mTrue\u001b[39;49;00m\u001b[43m)\u001b[49m\n",
      "\u001b[0;31mKeyboardInterrupt\u001b[0m: "
     ]
    }
   ],
   "source": [
    "train(G, D, train_iter, val_iter, n_epochs, optimizer_g, optimizer_d, G_loss, D_loss, Regulaztion, device)"
   ]
  },
  {
   "cell_type": "code",
   "execution_count": null,
   "id": "fad1f1fa",
   "metadata": {},
   "outputs": [],
   "source": [
    "plt.figure()\n",
    "plt.subplot(1,2,1)\n",
    "plt.plot(train_loss_d, label='Generator Train Loss')\n",
    "plt.plot(train_loss_g, label='Discriminator Train Loss')\n",
    "plt.plot(val_loss, label='Validation Loss')\n",
    "plt.subplot(1,2,2)\n",
    "plt.plot(train_psnr, label='Train PSNR')\n",
    "plt.plot(val_psnr, label='Validation PSNR')\n",
    "plt.title('Training process')\n",
    "plt.legend()\n",
    "plt.show()"
   ]
  },
  {
   "cell_type": "code",
   "execution_count": null,
   "id": "4a288738",
   "metadata": {},
   "outputs": [],
   "source": [
    "model = Generator(n_blocks)\n",
    "model.load_state_dict(torch.load('Generator.pth', map_location=torch.device('cpu')))\n",
    "model.eval()"
   ]
  },
  {
   "cell_type": "code",
   "execution_count": null,
   "id": "cd12f5a2",
   "metadata": {},
   "outputs": [],
   "source": [
    "test_transform = transforms.ToTensor()\n",
    "testimg = Image.open('img_011_SRF_4_HR.png')\n",
    "timg = np.array(testimg)/255\n",
    "timg = addGaussNoise(timg, 30)\n",
    "timg = torch.tensor(timg.transpose(2,0,1)).float().unsqueeze(0)"
   ]
  },
  {
   "cell_type": "code",
   "execution_count": null,
   "id": "48381ac7",
   "metadata": {},
   "outputs": [],
   "source": [
    "dnimg = model(timg)[0, :, :, :]\n",
    "dnimg = dnimg.detach().numpy().transpose((1, 2, 0))"
   ]
  },
  {
   "cell_type": "code",
   "execution_count": null,
   "id": "c33c065c",
   "metadata": {},
   "outputs": [],
   "source": [
    "timg = Image.fromarray(np.uint8(cv2.normalize(timg.squeeze().detach().numpy().transpose(1,2,0), None, 0, 255, cv2.NORM_MINMAX)))\n",
    "timg.save('noiseimg_011_SRF_4_HR.png')"
   ]
  },
  {
   "cell_type": "code",
   "execution_count": null,
   "id": "c56bbf22",
   "metadata": {},
   "outputs": [],
   "source": [
    "img = Image.fromarray(np.uint8(cv2.normalize(dnimg, None, 0, 255, cv2.NORM_MINMAX)))\n",
    "img.save('set5_gan_test.png')"
   ]
  },
  {
   "cell_type": "code",
   "execution_count": null,
   "id": "9940c688-c5af-4ba9-89c6-cc0118951ccd",
   "metadata": {},
   "outputs": [],
   "source": [
    "outPath = './output_file/'"
   ]
  },
  {
   "cell_type": "code",
   "execution_count": null,
   "id": "3840ad73-4d46-422f-bbce-9fc096680ed0",
   "metadata": {},
   "outputs": [],
   "source": [
    "def restruct(model, val_iter, outPath):\n",
    "    for i, (img, nimg) in enumerate(val_iter):\n",
    "        nimg = nimg.float()\n",
    "        dnimg = model(nimg)\n",
    "        dnimg = dnimg.detach().numpy().transpose(0,2,3,1)\n",
    "        img = img.detach().numpy().transpose(0,2,3,1)\n",
    "        \n",
    "        for t in range(img.shape[0]):\n",
    "            dnimgs = Image.fromarray(np.uint8(cv2.normalize(dnimg[t,:,:,:], None, 0, 255, cv2.NORM_MINMAX)))\n",
    "            rawimgs = Image.fromarray(np.uint8(cv2.normalize(img[t,:,:,:], None, 0, 255, cv2.NORM_MINMAX)))\n",
    "            dnimgs.save(outPath+f'{i*batch_size+t}_DN.png')\n",
    "            rawimgs.save(outPath+f'{i*batch_size+t}.png')"
   ]
  },
  {
   "cell_type": "code",
   "execution_count": null,
   "id": "b784d70d-c663-4d75-8158-49f75b10bbc9",
   "metadata": {},
   "outputs": [],
   "source": [
    "restruct(model, val_iter, outPath)"
   ]
  }
 ],
 "metadata": {
  "kernelspec": {
   "display_name": "Python 3",
   "language": "python",
   "name": "python3"
  },
  "language_info": {
   "codemirror_mode": {
    "name": "ipython",
    "version": 3
   },
   "file_extension": ".py",
   "mimetype": "text/x-python",
   "name": "python",
   "nbconvert_exporter": "python",
   "pygments_lexer": "ipython3",
   "version": "3.8.8"
  }
 },
 "nbformat": 4,
 "nbformat_minor": 5
}
